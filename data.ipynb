{
 "cells": [
  {
   "cell_type": "code",
   "execution_count": 1,
   "id": "unlimited-hollywood",
   "metadata": {},
   "outputs": [],
   "source": [
    "import pandas as pd\n",
    "import requests\n",
    "import json"
   ]
  },
  {
   "cell_type": "code",
   "execution_count": 2,
   "id": "damaged-equality",
   "metadata": {},
   "outputs": [],
   "source": [
    "url = 'https://api.themoviedb.org/3/discover/movie?api_key=61eafe24a4131d04710a8e52fcdd932a&language=en-US&sort_by=popularity.desc&include_adult=false&include_video=false&page=1000&primary_release_year=%s'\n",
    "\n"
   ]
  },
  {
   "cell_type": "code",
   "execution_count": 3,
   "id": "normal-shipping",
   "metadata": {},
   "outputs": [],
   "source": [
    "body = []\n",
    "for i in range(2000,2020):\n",
    "    for j in range(1,11):\n",
    "        year = requests.get('https://api.themoviedb.org/3/discover/movie?api_key=61eafe24a4131d04710a8e52fcdd932a&language=en-US&sort_by=popularity.desc&include_adult=false&include_video=false&page=' + str(j) + '&primary_release_year=' + str(i))\n",
    "        body.append(year)\n",
    "                            "
   ]
  },
  {
   "cell_type": "code",
   "execution_count": 4,
   "id": "incorporated-strength",
   "metadata": {},
   "outputs": [],
   "source": [
    "# define column names for our new dataframe\n",
    "columns = ['id', 'title', 'vote_average', 'overview', 'revenue', 'release_date']\n",
    "\n",
    "# create dataframe with appropriate columns\n",
    "df = pd.DataFrame(columns=columns)"
   ]
  },
  {
   "cell_type": "code",
   "execution_count": 8,
   "id": "political-poultry",
   "metadata": {},
   "outputs": [],
   "source": [
    "for i in range(0,200):\n",
    "    curr_year = body[i].json()['results']\n",
    "    for film in curr_year:\n",
    "        film_revenue = requests.get('https://api.themoviedb.org/3/movie/'+ str(film['id']) +'?api_key=61eafe24a4131d04710a8e52fcdd932a&language=en-US')\n",
    "        film_revenue = film_revenue.json()\n",
    "        df.loc[len(df)]=[film['id'],film['title'],film['vote_average'],film['overview'],film_revenue['revenue'],film['release_date']]"
   ]
  },
  {
   "cell_type": "code",
   "execution_count": 9,
   "id": "arbitrary-unemployment",
   "metadata": {},
   "outputs": [
    {
     "data": {
      "text/html": [
       "<div>\n",
       "<style scoped>\n",
       "    .dataframe tbody tr th:only-of-type {\n",
       "        vertical-align: middle;\n",
       "    }\n",
       "\n",
       "    .dataframe tbody tr th {\n",
       "        vertical-align: top;\n",
       "    }\n",
       "\n",
       "    .dataframe thead th {\n",
       "        text-align: right;\n",
       "    }\n",
       "</style>\n",
       "<table border=\"1\" class=\"dataframe\">\n",
       "  <thead>\n",
       "    <tr style=\"text-align: right;\">\n",
       "      <th></th>\n",
       "      <th>id</th>\n",
       "      <th>title</th>\n",
       "      <th>vote_average</th>\n",
       "      <th>overview</th>\n",
       "      <th>revenue</th>\n",
       "      <th>release_date</th>\n",
       "    </tr>\n",
       "  </thead>\n",
       "  <tbody>\n",
       "    <tr>\n",
       "      <th>0</th>\n",
       "      <td>118365</td>\n",
       "      <td>Moses, Prince of Egypt</td>\n",
       "      <td>5.5</td>\n",
       "      <td>At birth, Moses, a Hebrew baby is abandoned on...</td>\n",
       "      <td>0</td>\n",
       "      <td>2000-01-01</td>\n",
       "    </tr>\n",
       "    <tr>\n",
       "      <th>1</th>\n",
       "      <td>10567</td>\n",
       "      <td>Dinosaur</td>\n",
       "      <td>6.5</td>\n",
       "      <td>An orphaned dinosaur raised by lemurs joins an...</td>\n",
       "      <td>354248063</td>\n",
       "      <td>2000-05-19</td>\n",
       "    </tr>\n",
       "    <tr>\n",
       "      <th>2</th>\n",
       "      <td>4247</td>\n",
       "      <td>Scary Movie</td>\n",
       "      <td>6.3</td>\n",
       "      <td>A familiar-looking group of teenagers find the...</td>\n",
       "      <td>278019771</td>\n",
       "      <td>2000-07-07</td>\n",
       "    </tr>\n",
       "    <tr>\n",
       "      <th>3</th>\n",
       "      <td>8871</td>\n",
       "      <td>How the Grinch Stole Christmas</td>\n",
       "      <td>6.7</td>\n",
       "      <td>Inside a snowflake exists the magical land of ...</td>\n",
       "      <td>345141403</td>\n",
       "      <td>2000-11-17</td>\n",
       "    </tr>\n",
       "    <tr>\n",
       "      <th>4</th>\n",
       "      <td>11688</td>\n",
       "      <td>The Emperor's New Groove</td>\n",
       "      <td>7.5</td>\n",
       "      <td>Kuzco is a self-centered emperor who summons P...</td>\n",
       "      <td>169327687</td>\n",
       "      <td>2000-12-15</td>\n",
       "    </tr>\n",
       "  </tbody>\n",
       "</table>\n",
       "</div>"
      ],
      "text/plain": [
       "       id                           title  vote_average  \\\n",
       "0  118365          Moses, Prince of Egypt           5.5   \n",
       "1   10567                        Dinosaur           6.5   \n",
       "2    4247                     Scary Movie           6.3   \n",
       "3    8871  How the Grinch Stole Christmas           6.7   \n",
       "4   11688        The Emperor's New Groove           7.5   \n",
       "\n",
       "                                            overview    revenue release_date  \n",
       "0  At birth, Moses, a Hebrew baby is abandoned on...          0   2000-01-01  \n",
       "1  An orphaned dinosaur raised by lemurs joins an...  354248063   2000-05-19  \n",
       "2  A familiar-looking group of teenagers find the...  278019771   2000-07-07  \n",
       "3  Inside a snowflake exists the magical land of ...  345141403   2000-11-17  \n",
       "4  Kuzco is a self-centered emperor who summons P...  169327687   2000-12-15  "
      ]
     },
     "execution_count": 9,
     "metadata": {},
     "output_type": "execute_result"
    }
   ],
   "source": [
    "df.head()"
   ]
  },
  {
   "cell_type": "code",
   "execution_count": 10,
   "id": "fantastic-layout",
   "metadata": {},
   "outputs": [],
   "source": [
    "df.to_csv('movies.csv', index=False)"
   ]
  }
 ],
 "metadata": {
  "kernelspec": {
   "display_name": "Python 3",
   "language": "python",
   "name": "python3"
  },
  "language_info": {
   "codemirror_mode": {
    "name": "ipython",
    "version": 3
   },
   "file_extension": ".py",
   "mimetype": "text/x-python",
   "name": "python",
   "nbconvert_exporter": "python",
   "pygments_lexer": "ipython3",
   "version": "3.8.8"
  }
 },
 "nbformat": 4,
 "nbformat_minor": 5
}
