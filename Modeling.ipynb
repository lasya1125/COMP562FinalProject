{
  "nbformat": 4,
  "nbformat_minor": 0,
  "metadata": {
    "colab": {
      "name": "Modeling.ipynb",
      "provenance": [],
      "authorship_tag": "ABX9TyOr/Od7BNsXs3mwOEwn9suT",
      "include_colab_link": true
    },
    "kernelspec": {
      "name": "python3",
      "display_name": "Python 3"
    },
    "language_info": {
      "name": "python"
    }
  },
  "cells": [
    {
      "cell_type": "markdown",
      "metadata": {
        "id": "view-in-github",
        "colab_type": "text"
      },
      "source": [
        "<a href=\"https://colab.research.google.com/github/lasya1125/COMP562FinalProject/blob/main/Modeling.ipynb\" target=\"_parent\"><img src=\"https://colab.research.google.com/assets/colab-badge.svg\" alt=\"Open In Colab\"/></a>"
      ]
    },
    {
      "cell_type": "code",
      "metadata": {
        "id": "-1xFwHeCzoL1"
      },
      "source": [
        "import pandas as pd\n",
        "import matplotlib.pyplot as plt\n",
        "import sklearn \n",
        "from datetime import datetime\n",
        "from sklearn.model_selection import train_test_split"
      ],
      "execution_count": 72,
      "outputs": []
    },
    {
      "cell_type": "code",
      "metadata": {
        "id": "yxfqdOf80U_1",
        "colab": {
          "base_uri": "https://localhost:8080/",
          "height": 197
        },
        "outputId": "9e315d1c-fc52-4e94-c4a4-cd001a39887d"
      },
      "source": [
        "df = pd.read_csv('movies.csv')\n",
        "df.head()"
      ],
      "execution_count": 16,
      "outputs": [
        {
          "output_type": "execute_result",
          "data": {
            "text/html": [
              "<div>\n",
              "<style scoped>\n",
              "    .dataframe tbody tr th:only-of-type {\n",
              "        vertical-align: middle;\n",
              "    }\n",
              "\n",
              "    .dataframe tbody tr th {\n",
              "        vertical-align: top;\n",
              "    }\n",
              "\n",
              "    .dataframe thead th {\n",
              "        text-align: right;\n",
              "    }\n",
              "</style>\n",
              "<table border=\"1\" class=\"dataframe\">\n",
              "  <thead>\n",
              "    <tr style=\"text-align: right;\">\n",
              "      <th></th>\n",
              "      <th>id</th>\n",
              "      <th>title</th>\n",
              "      <th>vote_average</th>\n",
              "      <th>overview</th>\n",
              "      <th>revenue</th>\n",
              "      <th>release_date</th>\n",
              "    </tr>\n",
              "  </thead>\n",
              "  <tbody>\n",
              "    <tr>\n",
              "      <th>0</th>\n",
              "      <td>118365</td>\n",
              "      <td>Moses, Prince of Egypt</td>\n",
              "      <td>5.5</td>\n",
              "      <td>At birth, Moses, a Hebrew baby is abandoned on...</td>\n",
              "      <td>0</td>\n",
              "      <td>2000-01-01</td>\n",
              "    </tr>\n",
              "    <tr>\n",
              "      <th>1</th>\n",
              "      <td>10567</td>\n",
              "      <td>Dinosaur</td>\n",
              "      <td>6.5</td>\n",
              "      <td>An orphaned dinosaur raised by lemurs joins an...</td>\n",
              "      <td>354248063</td>\n",
              "      <td>2000-05-19</td>\n",
              "    </tr>\n",
              "    <tr>\n",
              "      <th>2</th>\n",
              "      <td>4247</td>\n",
              "      <td>Scary Movie</td>\n",
              "      <td>6.3</td>\n",
              "      <td>A familiar-looking group of teenagers find the...</td>\n",
              "      <td>278019771</td>\n",
              "      <td>2000-07-07</td>\n",
              "    </tr>\n",
              "    <tr>\n",
              "      <th>3</th>\n",
              "      <td>8871</td>\n",
              "      <td>How the Grinch Stole Christmas</td>\n",
              "      <td>6.7</td>\n",
              "      <td>Inside a snowflake exists the magical land of ...</td>\n",
              "      <td>345141403</td>\n",
              "      <td>2000-11-17</td>\n",
              "    </tr>\n",
              "    <tr>\n",
              "      <th>4</th>\n",
              "      <td>11688</td>\n",
              "      <td>The Emperor's New Groove</td>\n",
              "      <td>7.5</td>\n",
              "      <td>Kuzco is a self-centered emperor who summons P...</td>\n",
              "      <td>169327687</td>\n",
              "      <td>2000-12-15</td>\n",
              "    </tr>\n",
              "  </tbody>\n",
              "</table>\n",
              "</div>"
            ],
            "text/plain": [
              "       id                           title  ...    revenue release_date\n",
              "0  118365          Moses, Prince of Egypt  ...          0   2000-01-01\n",
              "1   10567                        Dinosaur  ...  354248063   2000-05-19\n",
              "2    4247                     Scary Movie  ...  278019771   2000-07-07\n",
              "3    8871  How the Grinch Stole Christmas  ...  345141403   2000-11-17\n",
              "4   11688        The Emperor's New Groove  ...  169327687   2000-12-15\n",
              "\n",
              "[5 rows x 6 columns]"
            ]
          },
          "metadata": {
            "tags": []
          },
          "execution_count": 16
        }
      ]
    },
    {
      "cell_type": "code",
      "metadata": {
        "colab": {
          "base_uri": "https://localhost:8080/",
          "height": 197
        },
        "id": "gFf8PuqhssrH",
        "outputId": "caa5d1c2-ad25-474d-9e16-a904db569a0f"
      },
      "source": [
        "df = df.drop(['id'], axis=1)\n",
        "df.head()"
      ],
      "execution_count": 17,
      "outputs": [
        {
          "output_type": "execute_result",
          "data": {
            "text/html": [
              "<div>\n",
              "<style scoped>\n",
              "    .dataframe tbody tr th:only-of-type {\n",
              "        vertical-align: middle;\n",
              "    }\n",
              "\n",
              "    .dataframe tbody tr th {\n",
              "        vertical-align: top;\n",
              "    }\n",
              "\n",
              "    .dataframe thead th {\n",
              "        text-align: right;\n",
              "    }\n",
              "</style>\n",
              "<table border=\"1\" class=\"dataframe\">\n",
              "  <thead>\n",
              "    <tr style=\"text-align: right;\">\n",
              "      <th></th>\n",
              "      <th>title</th>\n",
              "      <th>vote_average</th>\n",
              "      <th>overview</th>\n",
              "      <th>revenue</th>\n",
              "      <th>release_date</th>\n",
              "    </tr>\n",
              "  </thead>\n",
              "  <tbody>\n",
              "    <tr>\n",
              "      <th>0</th>\n",
              "      <td>Moses, Prince of Egypt</td>\n",
              "      <td>5.5</td>\n",
              "      <td>At birth, Moses, a Hebrew baby is abandoned on...</td>\n",
              "      <td>0</td>\n",
              "      <td>2000-01-01</td>\n",
              "    </tr>\n",
              "    <tr>\n",
              "      <th>1</th>\n",
              "      <td>Dinosaur</td>\n",
              "      <td>6.5</td>\n",
              "      <td>An orphaned dinosaur raised by lemurs joins an...</td>\n",
              "      <td>354248063</td>\n",
              "      <td>2000-05-19</td>\n",
              "    </tr>\n",
              "    <tr>\n",
              "      <th>2</th>\n",
              "      <td>Scary Movie</td>\n",
              "      <td>6.3</td>\n",
              "      <td>A familiar-looking group of teenagers find the...</td>\n",
              "      <td>278019771</td>\n",
              "      <td>2000-07-07</td>\n",
              "    </tr>\n",
              "    <tr>\n",
              "      <th>3</th>\n",
              "      <td>How the Grinch Stole Christmas</td>\n",
              "      <td>6.7</td>\n",
              "      <td>Inside a snowflake exists the magical land of ...</td>\n",
              "      <td>345141403</td>\n",
              "      <td>2000-11-17</td>\n",
              "    </tr>\n",
              "    <tr>\n",
              "      <th>4</th>\n",
              "      <td>The Emperor's New Groove</td>\n",
              "      <td>7.5</td>\n",
              "      <td>Kuzco is a self-centered emperor who summons P...</td>\n",
              "      <td>169327687</td>\n",
              "      <td>2000-12-15</td>\n",
              "    </tr>\n",
              "  </tbody>\n",
              "</table>\n",
              "</div>"
            ],
            "text/plain": [
              "                            title  vote_average  ...    revenue  release_date\n",
              "0          Moses, Prince of Egypt           5.5  ...          0    2000-01-01\n",
              "1                        Dinosaur           6.5  ...  354248063    2000-05-19\n",
              "2                     Scary Movie           6.3  ...  278019771    2000-07-07\n",
              "3  How the Grinch Stole Christmas           6.7  ...  345141403    2000-11-17\n",
              "4        The Emperor's New Groove           7.5  ...  169327687    2000-12-15\n",
              "\n",
              "[5 rows x 5 columns]"
            ]
          },
          "metadata": {
            "tags": []
          },
          "execution_count": 17
        }
      ]
    },
    {
      "cell_type": "code",
      "metadata": {
        "colab": {
          "base_uri": "https://localhost:8080/"
        },
        "id": "k6O7jSzIurvH",
        "outputId": "5f5aaedc-108e-47ee-9db6-b1ae858f41b8"
      },
      "source": [
        "print(df.isnull().sum())\n",
        "print(df.shape)"
      ],
      "execution_count": 18,
      "outputs": [
        {
          "output_type": "stream",
          "text": [
            "title           0\n",
            "vote_average    0\n",
            "overview        9\n",
            "revenue         0\n",
            "release_date    0\n",
            "dtype: int64\n",
            "(6000, 5)\n"
          ],
          "name": "stdout"
        }
      ]
    },
    {
      "cell_type": "code",
      "metadata": {
        "colab": {
          "base_uri": "https://localhost:8080/"
        },
        "id": "BXuDgkbsth_c",
        "outputId": "77bf792d-7d73-4244-dc3d-3a09f427efa7"
      },
      "source": [
        "df = df.dropna(axis=0)\n",
        "print(df.isnull().sum())\n",
        "print(df.shape)"
      ],
      "execution_count": 19,
      "outputs": [
        {
          "output_type": "stream",
          "text": [
            "title           0\n",
            "vote_average    0\n",
            "overview        0\n",
            "revenue         0\n",
            "release_date    0\n",
            "dtype: int64\n",
            "(5991, 5)\n"
          ],
          "name": "stdout"
        }
      ]
    },
    {
      "cell_type": "code",
      "metadata": {
        "colab": {
          "base_uri": "https://localhost:8080/"
        },
        "id": "pF052R3DvoGo",
        "outputId": "0cc965a2-29d0-4d37-c10e-6cacdfe45258"
      },
      "source": [
        "df = df.loc[df['revenue'] != 0]\n",
        "df.shape"
      ],
      "execution_count": 25,
      "outputs": [
        {
          "output_type": "execute_result",
          "data": {
            "text/plain": [
              "(3884, 5)"
            ]
          },
          "metadata": {
            "tags": []
          },
          "execution_count": 25
        }
      ]
    },
    {
      "cell_type": "code",
      "metadata": {
        "colab": {
          "base_uri": "https://localhost:8080/"
        },
        "id": "1m-rt0Krxy98",
        "outputId": "45915eea-a8f2-46b7-8e8f-fff511abbdcd"
      },
      "source": [
        "df['title'] = df['title'].astype('category')\n",
        "df['overview'] = df['overview'].astype('category')\n",
        "df['release_date']= pd.to_datetime(df['release_date'])\n",
        "print(df.dtypes)"
      ],
      "execution_count": 35,
      "outputs": [
        {
          "output_type": "stream",
          "text": [
            "title                 category\n",
            "vote_average           float64\n",
            "overview              category\n",
            "revenue                  int64\n",
            "release_date    datetime64[ns]\n",
            "dtype: object\n"
          ],
          "name": "stdout"
        }
      ]
    },
    {
      "cell_type": "code",
      "metadata": {
        "id": "5w5rk3bZKL0m"
      },
      "source": [
        "train_set, test_set = train_test_split(df,test_size=0.2,random_state=4)"
      ],
      "execution_count": 73,
      "outputs": []
    },
    {
      "cell_type": "code",
      "metadata": {
        "colab": {
          "base_uri": "https://localhost:8080/",
          "height": 287
        },
        "id": "76XI-LJ8_dMQ",
        "outputId": "c99aba02-15b8-4203-8e83-c14deaab43bb"
      },
      "source": [
        "df.describe()"
      ],
      "execution_count": 36,
      "outputs": [
        {
          "output_type": "execute_result",
          "data": {
            "text/html": [
              "<div>\n",
              "<style scoped>\n",
              "    .dataframe tbody tr th:only-of-type {\n",
              "        vertical-align: middle;\n",
              "    }\n",
              "\n",
              "    .dataframe tbody tr th {\n",
              "        vertical-align: top;\n",
              "    }\n",
              "\n",
              "    .dataframe thead th {\n",
              "        text-align: right;\n",
              "    }\n",
              "</style>\n",
              "<table border=\"1\" class=\"dataframe\">\n",
              "  <thead>\n",
              "    <tr style=\"text-align: right;\">\n",
              "      <th></th>\n",
              "      <th>vote_average</th>\n",
              "      <th>revenue</th>\n",
              "    </tr>\n",
              "  </thead>\n",
              "  <tbody>\n",
              "    <tr>\n",
              "      <th>count</th>\n",
              "      <td>3884.000000</td>\n",
              "      <td>3.884000e+03</td>\n",
              "    </tr>\n",
              "    <tr>\n",
              "      <th>mean</th>\n",
              "      <td>6.421138</td>\n",
              "      <td>1.442320e+08</td>\n",
              "    </tr>\n",
              "    <tr>\n",
              "      <th>std</th>\n",
              "      <td>0.830765</td>\n",
              "      <td>2.196025e+08</td>\n",
              "    </tr>\n",
              "    <tr>\n",
              "      <th>min</th>\n",
              "      <td>2.700000</td>\n",
              "      <td>1.000000e+00</td>\n",
              "    </tr>\n",
              "    <tr>\n",
              "      <th>25%</th>\n",
              "      <td>5.900000</td>\n",
              "      <td>2.270706e+07</td>\n",
              "    </tr>\n",
              "    <tr>\n",
              "      <th>50%</th>\n",
              "      <td>6.400000</td>\n",
              "      <td>6.991741e+07</td>\n",
              "    </tr>\n",
              "    <tr>\n",
              "      <th>75%</th>\n",
              "      <td>7.000000</td>\n",
              "      <td>1.680251e+08</td>\n",
              "    </tr>\n",
              "    <tr>\n",
              "      <th>max</th>\n",
              "      <td>8.600000</td>\n",
              "      <td>2.797801e+09</td>\n",
              "    </tr>\n",
              "  </tbody>\n",
              "</table>\n",
              "</div>"
            ],
            "text/plain": [
              "       vote_average       revenue\n",
              "count   3884.000000  3.884000e+03\n",
              "mean       6.421138  1.442320e+08\n",
              "std        0.830765  2.196025e+08\n",
              "min        2.700000  1.000000e+00\n",
              "25%        5.900000  2.270706e+07\n",
              "50%        6.400000  6.991741e+07\n",
              "75%        7.000000  1.680251e+08\n",
              "max        8.600000  2.797801e+09"
            ]
          },
          "metadata": {
            "tags": []
          },
          "execution_count": 36
        }
      ]
    },
    {
      "cell_type": "code",
      "metadata": {
        "colab": {
          "base_uri": "https://localhost:8080/",
          "height": 335
        },
        "id": "ZAv--yMvAdkX",
        "outputId": "583672aa-e808-4a9a-8663-234731f33b18"
      },
      "source": [
        "plt.hist(df['vote_average'])"
      ],
      "execution_count": 43,
      "outputs": [
        {
          "output_type": "execute_result",
          "data": {
            "text/plain": [
              "(array([   8.,    8.,   51.,  116.,  435., 1013., 1102.,  720.,  352.,\n",
              "          79.]),\n",
              " array([2.7 , 3.29, 3.88, 4.47, 5.06, 5.65, 6.24, 6.83, 7.42, 8.01, 8.6 ]),\n",
              " <a list of 10 Patch objects>)"
            ]
          },
          "metadata": {
            "tags": []
          },
          "execution_count": 43
        },
        {
          "output_type": "display_data",
          "data": {
            "image/png": "[encoded data removed]",
            "text/plain": [
              "<Figure size 432x288 with 1 Axes>"
            ]
          },
          "metadata": {
            "tags": [],
            "needs_background": "light"
          }
        }
      ]
    },
    {
      "cell_type": "code",
      "metadata": {
        "colab": {
          "base_uri": "https://localhost:8080/",
          "height": 485
        },
        "id": "V4g6i6pjBxph",
        "outputId": "5c058a7c-3beb-430e-a734-865e9cec0883"
      },
      "source": [
        " series = df.groupby(df['release_date'].dt.year)['revenue'].agg('mean')\n",
        " plt.plot(series,)\n",
        " plt.xlabel(\"Year\")\n",
        " plt.ylabel(\"Avg Revenue in Millions\")\n",
        " plt.xticks(range(2000, 2019,2))"
      ],
      "execution_count": 71,
      "outputs": [
        {
          "output_type": "execute_result",
          "data": {
            "text/plain": [
              "([<matplotlib.axis.XTick at 0x7efc0e1abe90>,\n",
              "  <matplotlib.axis.XTick at 0x7efc0e1c0750>,\n",
              "  <matplotlib.axis.XTick at 0x7efc0e1c0c90>,\n",
              "  <matplotlib.axis.XTick at 0x7efc0e25e190>,\n",
              "  <matplotlib.axis.XTick at 0x7efc0e1f16d0>,\n",
              "  <matplotlib.axis.XTick at 0x7efc0e1f1fd0>,\n",
              "  <matplotlib.axis.XTick at 0x7efc0e22fa90>,\n",
              "  <matplotlib.axis.XTick at 0x7efc0e22f3d0>,\n",
              "  <matplotlib.axis.XTick at 0x7efc0e22fad0>,\n",
              "  <matplotlib.axis.XTick at 0x7efc0e1f1610>],\n",
              " <a list of 10 Text major ticklabel objects>)"
            ]
          },
          "metadata": {
            "tags": []
          },
          "execution_count": 71
        },
        {
          "output_type": "display_data",
          "data": {
            "image/png": "[encoded data removed]",
            "text/plain": [
              "<Figure size 432x288 with 1 Axes>"
            ]
          },
          "metadata": {
            "tags": [],
            "needs_background": "light"
          }
        }
      ]
    },
    {
      "cell_type": "code",
      "metadata": {
        "id": "uUKYTQK9K-8j"
      },
      "source": [
        ""
      ],
      "execution_count": null,
      "outputs": []
    }
  ]
}