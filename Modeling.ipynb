{
  "nbformat": 4,
  "nbformat_minor": 0,
  "metadata": {
    "colab": {
      "name": "Modeling.ipynb",
      "provenance": [],
      "authorship_tag": "ABX9TyNgzb+aZvxhndfivDWw/qDZ",
      "include_colab_link": true
    },
    "kernelspec": {
      "name": "python3",
      "display_name": "Python 3"
    },
    "language_info": {
      "name": "python"
    }
  },
  "cells": [
    {
      "cell_type": "markdown",
      "metadata": {
        "id": "view-in-github",
        "colab_type": "text"
      },
      "source": [
        "<a href=\"https://colab.research.google.com/github/lasya1125/COMP562FinalProject/blob/main/Modeling.ipynb\" target=\"_parent\"><img src=\"https://colab.research.google.com/assets/colab-badge.svg\" alt=\"Open In Colab\"/></a>"
      ]
    },
    {
      "cell_type": "code",
      "metadata": {
        "id": "-1xFwHeCzoL1"
      },
      "source": [
        "import pandas as pd"
      ],
      "execution_count": null,
      "outputs": []
    },
    {
      "cell_type": "code",
      "metadata": {
        "id": "yxfqdOf80U_1"
      },
      "source": [
        "df = pd.read_csv('movies.csv')"
      ],
      "execution_count": null,
      "outputs": []
    },
    {
      "cell_type": "code",
      "metadata": {
        "id": "pHo1k92E0t__",
        "colab": {
          "base_uri": "https://localhost:8080/",
          "height": 197
        },
        "outputId": "016f3cd8-e491-4413-ec47-5b8d7563240c"
      },
      "source": [
        "df.head()"
      ],
      "execution_count": null,
      "outputs": [
        {
          "output_type": "execute_result",
          "data": {
            "text/html": [
              "<div>\n",
              "<style scoped>\n",
              "    .dataframe tbody tr th:only-of-type {\n",
              "        vertical-align: middle;\n",
              "    }\n",
              "\n",
              "    .dataframe tbody tr th {\n",
              "        vertical-align: top;\n",
              "    }\n",
              "\n",
              "    .dataframe thead th {\n",
              "        text-align: right;\n",
              "    }\n",
              "</style>\n",
              "<table border=\"1\" class=\"dataframe\">\n",
              "  <thead>\n",
              "    <tr style=\"text-align: right;\">\n",
              "      <th></th>\n",
              "      <th>id</th>\n",
              "      <th>title</th>\n",
              "      <th>vote_average</th>\n",
              "      <th>overview</th>\n",
              "      <th>revenue</th>\n",
              "      <th>release_date</th>\n",
              "    </tr>\n",
              "  </thead>\n",
              "  <tbody>\n",
              "    <tr>\n",
              "      <th>0</th>\n",
              "      <td>118365</td>\n",
              "      <td>Moses, Prince of Egypt</td>\n",
              "      <td>5.5</td>\n",
              "      <td>At birth, Moses, a Hebrew baby is abandoned on...</td>\n",
              "      <td>0</td>\n",
              "      <td>2000-01-01</td>\n",
              "    </tr>\n",
              "    <tr>\n",
              "      <th>1</th>\n",
              "      <td>10567</td>\n",
              "      <td>Dinosaur</td>\n",
              "      <td>6.5</td>\n",
              "      <td>An orphaned dinosaur raised by lemurs joins an...</td>\n",
              "      <td>354248063</td>\n",
              "      <td>2000-05-19</td>\n",
              "    </tr>\n",
              "    <tr>\n",
              "      <th>2</th>\n",
              "      <td>4247</td>\n",
              "      <td>Scary Movie</td>\n",
              "      <td>6.3</td>\n",
              "      <td>A familiar-looking group of teenagers find the...</td>\n",
              "      <td>278019771</td>\n",
              "      <td>2000-07-07</td>\n",
              "    </tr>\n",
              "    <tr>\n",
              "      <th>3</th>\n",
              "      <td>8871</td>\n",
              "      <td>How the Grinch Stole Christmas</td>\n",
              "      <td>6.7</td>\n",
              "      <td>Inside a snowflake exists the magical land of ...</td>\n",
              "      <td>345141403</td>\n",
              "      <td>2000-11-17</td>\n",
              "    </tr>\n",
              "    <tr>\n",
              "      <th>4</th>\n",
              "      <td>11688</td>\n",
              "      <td>The Emperor's New Groove</td>\n",
              "      <td>7.5</td>\n",
              "      <td>Kuzco is a self-centered emperor who summons P...</td>\n",
              "      <td>169327687</td>\n",
              "      <td>2000-12-15</td>\n",
              "    </tr>\n",
              "  </tbody>\n",
              "</table>\n",
              "</div>"
            ],
            "text/plain": [
              "       id                           title  ...    revenue release_date\n",
              "0  118365          Moses, Prince of Egypt  ...          0   2000-01-01\n",
              "1   10567                        Dinosaur  ...  354248063   2000-05-19\n",
              "2    4247                     Scary Movie  ...  278019771   2000-07-07\n",
              "3    8871  How the Grinch Stole Christmas  ...  345141403   2000-11-17\n",
              "4   11688        The Emperor's New Groove  ...  169327687   2000-12-15\n",
              "\n",
              "[5 rows x 6 columns]"
            ]
          },
          "metadata": {
            "tags": []
          },
          "execution_count": 4
        }
      ]
    }
  ]
}