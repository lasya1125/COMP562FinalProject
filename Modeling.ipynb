{
  "nbformat": 4,
  "nbformat_minor": 0,
  "metadata": {
    "colab": {
      "name": "Modeling.ipynb",
      "provenance": [],
      "collapsed_sections": [],
      "include_colab_link": true
    },
    "kernelspec": {
      "name": "python3",
      "display_name": "Python 3"
    },
    "language_info": {
      "name": "python"
    }
  },
  "cells": [
    {
      "cell_type": "markdown",
      "metadata": {
        "id": "view-in-github",
        "colab_type": "text"
      },
      "source": [
        "<a href=\"https://colab.research.google.com/github/lasya1125/COMP562FinalProject/blob/main/Modeling.ipynb\" target=\"_parent\"><img src=\"https://colab.research.google.com/assets/colab-badge.svg\" alt=\"Open In Colab\"/></a>"
      ]
    },
    {
      "cell_type": "code",
      "metadata": {
        "id": "-1xFwHeCzoL1"
      },
      "source": [
        "import string\n",
        "import nltk\n",
        "import pandas as pd\n",
        "import matplotlib.pyplot as plt \n",
        "import seaborn as sns\n",
        "from datetime import datetime\n",
        "from sklearn.feature_extraction.text import CountVectorizer\n",
        "from sklearn.ensemble import RandomForestClassifier\n",
        "from sklearn.model_selection import KFold\n",
        "from nltk.corpus import stopwords\n",
        "from sklearn.metrics import confusion_matrix\n",
        "from sklearn.metrics import accuracy_score\n",
        "from sklearn.feature_extraction.text import TfidfVectorizer"
      ],
      "execution_count": 1,
      "outputs": []
    },
    {
      "cell_type": "code",
      "metadata": {
        "id": "yxfqdOf80U_1",
        "colab": {
          "base_uri": "https://localhost:8080/",
          "height": 204
        },
        "outputId": "df9f15d9-6b5a-43d6-bae8-a116d64c57de"
      },
      "source": [
        "df = pd.read_csv('movies.csv')\n",
        "df.head()"
      ],
      "execution_count": 2,
      "outputs": [
        {
          "output_type": "execute_result",
          "data": {
            "text/html": [
              "<div>\n",
              "<style scoped>\n",
              "    .dataframe tbody tr th:only-of-type {\n",
              "        vertical-align: middle;\n",
              "    }\n",
              "\n",
              "    .dataframe tbody tr th {\n",
              "        vertical-align: top;\n",
              "    }\n",
              "\n",
              "    .dataframe thead th {\n",
              "        text-align: right;\n",
              "    }\n",
              "</style>\n",
              "<table border=\"1\" class=\"dataframe\">\n",
              "  <thead>\n",
              "    <tr style=\"text-align: right;\">\n",
              "      <th></th>\n",
              "      <th>id</th>\n",
              "      <th>title</th>\n",
              "      <th>vote_average</th>\n",
              "      <th>overview</th>\n",
              "      <th>revenue</th>\n",
              "      <th>release_date</th>\n",
              "    </tr>\n",
              "  </thead>\n",
              "  <tbody>\n",
              "    <tr>\n",
              "      <th>0</th>\n",
              "      <td>118365</td>\n",
              "      <td>Moses, Prince of Egypt</td>\n",
              "      <td>5.5</td>\n",
              "      <td>At birth, Moses, a Hebrew baby is abandoned on...</td>\n",
              "      <td>0</td>\n",
              "      <td>2000-01-01</td>\n",
              "    </tr>\n",
              "    <tr>\n",
              "      <th>1</th>\n",
              "      <td>10567</td>\n",
              "      <td>Dinosaur</td>\n",
              "      <td>6.5</td>\n",
              "      <td>An orphaned dinosaur raised by lemurs joins an...</td>\n",
              "      <td>354248063</td>\n",
              "      <td>2000-05-19</td>\n",
              "    </tr>\n",
              "    <tr>\n",
              "      <th>2</th>\n",
              "      <td>4247</td>\n",
              "      <td>Scary Movie</td>\n",
              "      <td>6.3</td>\n",
              "      <td>A familiar-looking group of teenagers find the...</td>\n",
              "      <td>278019771</td>\n",
              "      <td>2000-07-07</td>\n",
              "    </tr>\n",
              "    <tr>\n",
              "      <th>3</th>\n",
              "      <td>8871</td>\n",
              "      <td>How the Grinch Stole Christmas</td>\n",
              "      <td>6.7</td>\n",
              "      <td>Inside a snowflake exists the magical land of ...</td>\n",
              "      <td>345141403</td>\n",
              "      <td>2000-11-17</td>\n",
              "    </tr>\n",
              "    <tr>\n",
              "      <th>4</th>\n",
              "      <td>11688</td>\n",
              "      <td>The Emperor's New Groove</td>\n",
              "      <td>7.5</td>\n",
              "      <td>Kuzco is a self-centered emperor who summons P...</td>\n",
              "      <td>169327687</td>\n",
              "      <td>2000-12-15</td>\n",
              "    </tr>\n",
              "  </tbody>\n",
              "</table>\n",
              "</div>"
            ],
            "text/plain": [
              "       id                           title  ...    revenue release_date\n",
              "0  118365          Moses, Prince of Egypt  ...          0   2000-01-01\n",
              "1   10567                        Dinosaur  ...  354248063   2000-05-19\n",
              "2    4247                     Scary Movie  ...  278019771   2000-07-07\n",
              "3    8871  How the Grinch Stole Christmas  ...  345141403   2000-11-17\n",
              "4   11688        The Emperor's New Groove  ...  169327687   2000-12-15\n",
              "\n",
              "[5 rows x 6 columns]"
            ]
          },
          "metadata": {
            "tags": []
          },
          "execution_count": 2
        }
      ]
    },
    {
      "cell_type": "code",
      "metadata": {
        "colab": {
          "base_uri": "https://localhost:8080/",
          "height": 204
        },
        "id": "gFf8PuqhssrH",
        "outputId": "dc39f1c8-b0b0-4a63-a79f-effae5768b2a"
      },
      "source": [
        "df = df.drop(['id'], axis=1)\n",
        "df.head()"
      ],
      "execution_count": 3,
      "outputs": [
        {
          "output_type": "execute_result",
          "data": {
            "text/html": [
              "<div>\n",
              "<style scoped>\n",
              "    .dataframe tbody tr th:only-of-type {\n",
              "        vertical-align: middle;\n",
              "    }\n",
              "\n",
              "    .dataframe tbody tr th {\n",
              "        vertical-align: top;\n",
              "    }\n",
              "\n",
              "    .dataframe thead th {\n",
              "        text-align: right;\n",
              "    }\n",
              "</style>\n",
              "<table border=\"1\" class=\"dataframe\">\n",
              "  <thead>\n",
              "    <tr style=\"text-align: right;\">\n",
              "      <th></th>\n",
              "      <th>title</th>\n",
              "      <th>vote_average</th>\n",
              "      <th>overview</th>\n",
              "      <th>revenue</th>\n",
              "      <th>release_date</th>\n",
              "    </tr>\n",
              "  </thead>\n",
              "  <tbody>\n",
              "    <tr>\n",
              "      <th>0</th>\n",
              "      <td>Moses, Prince of Egypt</td>\n",
              "      <td>5.5</td>\n",
              "      <td>At birth, Moses, a Hebrew baby is abandoned on...</td>\n",
              "      <td>0</td>\n",
              "      <td>2000-01-01</td>\n",
              "    </tr>\n",
              "    <tr>\n",
              "      <th>1</th>\n",
              "      <td>Dinosaur</td>\n",
              "      <td>6.5</td>\n",
              "      <td>An orphaned dinosaur raised by lemurs joins an...</td>\n",
              "      <td>354248063</td>\n",
              "      <td>2000-05-19</td>\n",
              "    </tr>\n",
              "    <tr>\n",
              "      <th>2</th>\n",
              "      <td>Scary Movie</td>\n",
              "      <td>6.3</td>\n",
              "      <td>A familiar-looking group of teenagers find the...</td>\n",
              "      <td>278019771</td>\n",
              "      <td>2000-07-07</td>\n",
              "    </tr>\n",
              "    <tr>\n",
              "      <th>3</th>\n",
              "      <td>How the Grinch Stole Christmas</td>\n",
              "      <td>6.7</td>\n",
              "      <td>Inside a snowflake exists the magical land of ...</td>\n",
              "      <td>345141403</td>\n",
              "      <td>2000-11-17</td>\n",
              "    </tr>\n",
              "    <tr>\n",
              "      <th>4</th>\n",
              "      <td>The Emperor's New Groove</td>\n",
              "      <td>7.5</td>\n",
              "      <td>Kuzco is a self-centered emperor who summons P...</td>\n",
              "      <td>169327687</td>\n",
              "      <td>2000-12-15</td>\n",
              "    </tr>\n",
              "  </tbody>\n",
              "</table>\n",
              "</div>"
            ],
            "text/plain": [
              "                            title  vote_average  ...    revenue  release_date\n",
              "0          Moses, Prince of Egypt           5.5  ...          0    2000-01-01\n",
              "1                        Dinosaur           6.5  ...  354248063    2000-05-19\n",
              "2                     Scary Movie           6.3  ...  278019771    2000-07-07\n",
              "3  How the Grinch Stole Christmas           6.7  ...  345141403    2000-11-17\n",
              "4        The Emperor's New Groove           7.5  ...  169327687    2000-12-15\n",
              "\n",
              "[5 rows x 5 columns]"
            ]
          },
          "metadata": {
            "tags": []
          },
          "execution_count": 3
        }
      ]
    },
    {
      "cell_type": "code",
      "metadata": {
        "colab": {
          "base_uri": "https://localhost:8080/"
        },
        "id": "k6O7jSzIurvH",
        "outputId": "188cbafa-af06-4acf-dbdd-ed4e0271781b"
      },
      "source": [
        "print(df.isnull().sum())\n",
        "print(df.shape)"
      ],
      "execution_count": 4,
      "outputs": [
        {
          "output_type": "stream",
          "text": [
            "title           0\n",
            "vote_average    0\n",
            "overview        9\n",
            "revenue         0\n",
            "release_date    0\n",
            "dtype: int64\n",
            "(6000, 5)\n"
          ],
          "name": "stdout"
        }
      ]
    },
    {
      "cell_type": "code",
      "metadata": {
        "colab": {
          "base_uri": "https://localhost:8080/"
        },
        "id": "BXuDgkbsth_c",
        "outputId": "53318c76-0718-48b8-ec67-67ea229de850"
      },
      "source": [
        "df = df.dropna(axis=0)\n",
        "print(df.isnull().sum())\n",
        "print(df.shape)"
      ],
      "execution_count": 5,
      "outputs": [
        {
          "output_type": "stream",
          "text": [
            "title           0\n",
            "vote_average    0\n",
            "overview        0\n",
            "revenue         0\n",
            "release_date    0\n",
            "dtype: int64\n",
            "(5991, 5)\n"
          ],
          "name": "stdout"
        }
      ]
    },
    {
      "cell_type": "code",
      "metadata": {
        "colab": {
          "base_uri": "https://localhost:8080/"
        },
        "id": "pF052R3DvoGo",
        "outputId": "cd237278-5560-4d97-a3c3-dd6a6936d5f4"
      },
      "source": [
        "df = df.loc[df['revenue'] != 0]\n",
        "df.shape"
      ],
      "execution_count": 6,
      "outputs": [
        {
          "output_type": "execute_result",
          "data": {
            "text/plain": [
              "(3884, 5)"
            ]
          },
          "metadata": {
            "tags": []
          },
          "execution_count": 6
        }
      ]
    },
    {
      "cell_type": "code",
      "metadata": {
        "colab": {
          "base_uri": "https://localhost:8080/",
          "height": 297
        },
        "id": "76XI-LJ8_dMQ",
        "outputId": "d3a89ea9-dfc8-4370-b9af-b63350ad765f"
      },
      "source": [
        "df.describe()"
      ],
      "execution_count": 7,
      "outputs": [
        {
          "output_type": "execute_result",
          "data": {
            "text/html": [
              "<div>\n",
              "<style scoped>\n",
              "    .dataframe tbody tr th:only-of-type {\n",
              "        vertical-align: middle;\n",
              "    }\n",
              "\n",
              "    .dataframe tbody tr th {\n",
              "        vertical-align: top;\n",
              "    }\n",
              "\n",
              "    .dataframe thead th {\n",
              "        text-align: right;\n",
              "    }\n",
              "</style>\n",
              "<table border=\"1\" class=\"dataframe\">\n",
              "  <thead>\n",
              "    <tr style=\"text-align: right;\">\n",
              "      <th></th>\n",
              "      <th>vote_average</th>\n",
              "      <th>revenue</th>\n",
              "    </tr>\n",
              "  </thead>\n",
              "  <tbody>\n",
              "    <tr>\n",
              "      <th>count</th>\n",
              "      <td>3884.000000</td>\n",
              "      <td>3.884000e+03</td>\n",
              "    </tr>\n",
              "    <tr>\n",
              "      <th>mean</th>\n",
              "      <td>6.421138</td>\n",
              "      <td>1.442320e+08</td>\n",
              "    </tr>\n",
              "    <tr>\n",
              "      <th>std</th>\n",
              "      <td>0.830765</td>\n",
              "      <td>2.196025e+08</td>\n",
              "    </tr>\n",
              "    <tr>\n",
              "      <th>min</th>\n",
              "      <td>2.700000</td>\n",
              "      <td>1.000000e+00</td>\n",
              "    </tr>\n",
              "    <tr>\n",
              "      <th>25%</th>\n",
              "      <td>5.900000</td>\n",
              "      <td>2.270706e+07</td>\n",
              "    </tr>\n",
              "    <tr>\n",
              "      <th>50%</th>\n",
              "      <td>6.400000</td>\n",
              "      <td>6.991741e+07</td>\n",
              "    </tr>\n",
              "    <tr>\n",
              "      <th>75%</th>\n",
              "      <td>7.000000</td>\n",
              "      <td>1.680251e+08</td>\n",
              "    </tr>\n",
              "    <tr>\n",
              "      <th>max</th>\n",
              "      <td>8.600000</td>\n",
              "      <td>2.797801e+09</td>\n",
              "    </tr>\n",
              "  </tbody>\n",
              "</table>\n",
              "</div>"
            ],
            "text/plain": [
              "       vote_average       revenue\n",
              "count   3884.000000  3.884000e+03\n",
              "mean       6.421138  1.442320e+08\n",
              "std        0.830765  2.196025e+08\n",
              "min        2.700000  1.000000e+00\n",
              "25%        5.900000  2.270706e+07\n",
              "50%        6.400000  6.991741e+07\n",
              "75%        7.000000  1.680251e+08\n",
              "max        8.600000  2.797801e+09"
            ]
          },
          "metadata": {
            "tags": []
          },
          "execution_count": 7
        }
      ]
    },
    {
      "cell_type": "code",
      "metadata": {
        "colab": {
          "base_uri": "https://localhost:8080/",
          "height": 204
        },
        "id": "zyUz2R6RKmiq",
        "outputId": "c5e1e989-71d8-4bf2-9632-52d9a4d49d20"
      },
      "source": [
        "cat = pd.cut(df['revenue'],bins=[0,2.5e7,7.5e7,1.75e8,5e8,1e9],labels=['1','2','3','4','5'])\n",
        "df.insert(4,\"revenue_cat\",cat)\n",
        "df.head()"
      ],
      "execution_count": 8,
      "outputs": [
        {
          "output_type": "execute_result",
          "data": {
            "text/html": [
              "<div>\n",
              "<style scoped>\n",
              "    .dataframe tbody tr th:only-of-type {\n",
              "        vertical-align: middle;\n",
              "    }\n",
              "\n",
              "    .dataframe tbody tr th {\n",
              "        vertical-align: top;\n",
              "    }\n",
              "\n",
              "    .dataframe thead th {\n",
              "        text-align: right;\n",
              "    }\n",
              "</style>\n",
              "<table border=\"1\" class=\"dataframe\">\n",
              "  <thead>\n",
              "    <tr style=\"text-align: right;\">\n",
              "      <th></th>\n",
              "      <th>title</th>\n",
              "      <th>vote_average</th>\n",
              "      <th>overview</th>\n",
              "      <th>revenue</th>\n",
              "      <th>revenue_cat</th>\n",
              "      <th>release_date</th>\n",
              "    </tr>\n",
              "  </thead>\n",
              "  <tbody>\n",
              "    <tr>\n",
              "      <th>1</th>\n",
              "      <td>Dinosaur</td>\n",
              "      <td>6.5</td>\n",
              "      <td>An orphaned dinosaur raised by lemurs joins an...</td>\n",
              "      <td>354248063</td>\n",
              "      <td>4</td>\n",
              "      <td>2000-05-19</td>\n",
              "    </tr>\n",
              "    <tr>\n",
              "      <th>2</th>\n",
              "      <td>Scary Movie</td>\n",
              "      <td>6.3</td>\n",
              "      <td>A familiar-looking group of teenagers find the...</td>\n",
              "      <td>278019771</td>\n",
              "      <td>4</td>\n",
              "      <td>2000-07-07</td>\n",
              "    </tr>\n",
              "    <tr>\n",
              "      <th>3</th>\n",
              "      <td>How the Grinch Stole Christmas</td>\n",
              "      <td>6.7</td>\n",
              "      <td>Inside a snowflake exists the magical land of ...</td>\n",
              "      <td>345141403</td>\n",
              "      <td>4</td>\n",
              "      <td>2000-11-17</td>\n",
              "    </tr>\n",
              "    <tr>\n",
              "      <th>4</th>\n",
              "      <td>The Emperor's New Groove</td>\n",
              "      <td>7.5</td>\n",
              "      <td>Kuzco is a self-centered emperor who summons P...</td>\n",
              "      <td>169327687</td>\n",
              "      <td>3</td>\n",
              "      <td>2000-12-15</td>\n",
              "    </tr>\n",
              "    <tr>\n",
              "      <th>5</th>\n",
              "      <td>The Road to El Dorado</td>\n",
              "      <td>7.2</td>\n",
              "      <td>After a failed swindle, two con-men end up wit...</td>\n",
              "      <td>76432727</td>\n",
              "      <td>3</td>\n",
              "      <td>2000-03-31</td>\n",
              "    </tr>\n",
              "  </tbody>\n",
              "</table>\n",
              "</div>"
            ],
            "text/plain": [
              "                            title  vote_average  ... revenue_cat  release_date\n",
              "1                        Dinosaur           6.5  ...           4    2000-05-19\n",
              "2                     Scary Movie           6.3  ...           4    2000-07-07\n",
              "3  How the Grinch Stole Christmas           6.7  ...           4    2000-11-17\n",
              "4        The Emperor's New Groove           7.5  ...           3    2000-12-15\n",
              "5           The Road to El Dorado           7.2  ...           3    2000-03-31\n",
              "\n",
              "[5 rows x 6 columns]"
            ]
          },
          "metadata": {
            "tags": []
          },
          "execution_count": 8
        }
      ]
    },
    {
      "cell_type": "code",
      "metadata": {
        "id": "1m-rt0Krxy98"
      },
      "source": [
        "df['title'] = df['title'].astype('category')\n",
        "df['overview'] = df['overview'].astype('category')\n",
        "df['revenue_cat'] = df['revenue_cat'].astype('category')\n",
        "df['release_date']= pd.to_datetime(df['release_date'])"
      ],
      "execution_count": 9,
      "outputs": []
    },
    {
      "cell_type": "code",
      "metadata": {
        "colab": {
          "base_uri": "https://localhost:8080/",
          "height": 296
        },
        "id": "ZAv--yMvAdkX",
        "outputId": "f1bc5ce0-25fe-4879-a05b-4dfcd3724910"
      },
      "source": [
        "plt.hist(df['vote_average'])\n",
        "plt.xlabel(\"Vote Average\")\n",
        "plt.ylabel(\"Count\")"
      ],
      "execution_count": 10,
      "outputs": [
        {
          "output_type": "execute_result",
          "data": {
            "text/plain": [
              "Text(0, 0.5, 'Count')"
            ]
          },
          "metadata": {
            "tags": []
          },
          "execution_count": 10
        },
        {
          "output_type": "display_data",
          "data": {
            "image/png": "[encoded data removed]",
            "text/plain": [
              "<Figure size 432x288 with 1 Axes>"
            ]
          },
          "metadata": {
            "tags": [],
            "needs_background": "light"
          }
        }
      ]
    },
    {
      "cell_type": "code",
      "metadata": {
        "colab": {
          "base_uri": "https://localhost:8080/",
          "height": 477
        },
        "id": "V4g6i6pjBxph",
        "outputId": "e7f10fc6-99c5-4efa-ddd5-e13b768007e8"
      },
      "source": [
        " series = df.groupby(df['release_date'].dt.year)['revenue'].agg('mean')\n",
        " plt.plot(series,)\n",
        " plt.xlabel(\"Year\")\n",
        " plt.ylabel(\"Avg Revenue in Hundreds of Millions\")\n",
        " plt.xticks(range(2000, 2019,2))"
      ],
      "execution_count": 11,
      "outputs": [
        {
          "output_type": "execute_result",
          "data": {
            "text/plain": [
              "([<matplotlib.axis.XTick at 0x7f4542df6190>,\n",
              "  <matplotlib.axis.XTick at 0x7f4542df66d0>,\n",
              "  <matplotlib.axis.XTick at 0x7f4542f03c10>,\n",
              "  <matplotlib.axis.XTick at 0x7f4542960f10>,\n",
              "  <matplotlib.axis.XTick at 0x7f454296c490>,\n",
              "  <matplotlib.axis.XTick at 0x7f454296c9d0>,\n",
              "  <matplotlib.axis.XTick at 0x7f454296c890>,\n",
              "  <matplotlib.axis.XTick at 0x7f45429724d0>,\n",
              "  <matplotlib.axis.XTick at 0x7f4542972a10>,\n",
              "  <matplotlib.axis.XTick at 0x7f45429728d0>],\n",
              " <a list of 10 Text major ticklabel objects>)"
            ]
          },
          "metadata": {
            "tags": []
          },
          "execution_count": 11
        },
        {
          "output_type": "display_data",
          "data": {
            "image/png": "[encoded data removed]",
            "text/plain": [
              "<Figure size 432x288 with 1 Axes>"
            ]
          },
          "metadata": {
            "tags": [],
            "needs_background": "light"
          }
        }
      ]
    },
    {
      "cell_type": "code",
      "metadata": {
        "colab": {
          "base_uri": "https://localhost:8080/",
          "height": 238
        },
        "id": "79-1Yi3PynBt",
        "outputId": "29166a5b-ddef-4f1a-90e9-ab74858d6401"
      },
      "source": [
        "df['lower'] = [word.lower() for word in df['overview']]\n",
        "df.head()"
      ],
      "execution_count": 12,
      "outputs": [
        {
          "output_type": "execute_result",
          "data": {
            "text/html": [
              "<div>\n",
              "<style scoped>\n",
              "    .dataframe tbody tr th:only-of-type {\n",
              "        vertical-align: middle;\n",
              "    }\n",
              "\n",
              "    .dataframe tbody tr th {\n",
              "        vertical-align: top;\n",
              "    }\n",
              "\n",
              "    .dataframe thead th {\n",
              "        text-align: right;\n",
              "    }\n",
              "</style>\n",
              "<table border=\"1\" class=\"dataframe\">\n",
              "  <thead>\n",
              "    <tr style=\"text-align: right;\">\n",
              "      <th></th>\n",
              "      <th>title</th>\n",
              "      <th>vote_average</th>\n",
              "      <th>overview</th>\n",
              "      <th>revenue</th>\n",
              "      <th>revenue_cat</th>\n",
              "      <th>release_date</th>\n",
              "      <th>lower</th>\n",
              "    </tr>\n",
              "  </thead>\n",
              "  <tbody>\n",
              "    <tr>\n",
              "      <th>1</th>\n",
              "      <td>Dinosaur</td>\n",
              "      <td>6.5</td>\n",
              "      <td>An orphaned dinosaur raised by lemurs joins an...</td>\n",
              "      <td>354248063</td>\n",
              "      <td>4</td>\n",
              "      <td>2000-05-19</td>\n",
              "      <td>an orphaned dinosaur raised by lemurs joins an...</td>\n",
              "    </tr>\n",
              "    <tr>\n",
              "      <th>2</th>\n",
              "      <td>Scary Movie</td>\n",
              "      <td>6.3</td>\n",
              "      <td>A familiar-looking group of teenagers find the...</td>\n",
              "      <td>278019771</td>\n",
              "      <td>4</td>\n",
              "      <td>2000-07-07</td>\n",
              "      <td>a familiar-looking group of teenagers find the...</td>\n",
              "    </tr>\n",
              "    <tr>\n",
              "      <th>3</th>\n",
              "      <td>How the Grinch Stole Christmas</td>\n",
              "      <td>6.7</td>\n",
              "      <td>Inside a snowflake exists the magical land of ...</td>\n",
              "      <td>345141403</td>\n",
              "      <td>4</td>\n",
              "      <td>2000-11-17</td>\n",
              "      <td>inside a snowflake exists the magical land of ...</td>\n",
              "    </tr>\n",
              "    <tr>\n",
              "      <th>4</th>\n",
              "      <td>The Emperor's New Groove</td>\n",
              "      <td>7.5</td>\n",
              "      <td>Kuzco is a self-centered emperor who summons P...</td>\n",
              "      <td>169327687</td>\n",
              "      <td>3</td>\n",
              "      <td>2000-12-15</td>\n",
              "      <td>kuzco is a self-centered emperor who summons p...</td>\n",
              "    </tr>\n",
              "    <tr>\n",
              "      <th>5</th>\n",
              "      <td>The Road to El Dorado</td>\n",
              "      <td>7.2</td>\n",
              "      <td>After a failed swindle, two con-men end up wit...</td>\n",
              "      <td>76432727</td>\n",
              "      <td>3</td>\n",
              "      <td>2000-03-31</td>\n",
              "      <td>after a failed swindle, two con-men end up wit...</td>\n",
              "    </tr>\n",
              "  </tbody>\n",
              "</table>\n",
              "</div>"
            ],
            "text/plain": [
              "                            title  ...                                              lower\n",
              "1                        Dinosaur  ...  an orphaned dinosaur raised by lemurs joins an...\n",
              "2                     Scary Movie  ...  a familiar-looking group of teenagers find the...\n",
              "3  How the Grinch Stole Christmas  ...  inside a snowflake exists the magical land of ...\n",
              "4        The Emperor's New Groove  ...  kuzco is a self-centered emperor who summons p...\n",
              "5           The Road to El Dorado  ...  after a failed swindle, two con-men end up wit...\n",
              "\n",
              "[5 rows x 7 columns]"
            ]
          },
          "metadata": {
            "tags": []
          },
          "execution_count": 12
        }
      ]
    },
    {
      "cell_type": "code",
      "metadata": {
        "colab": {
          "base_uri": "https://localhost:8080/"
        },
        "id": "GRAEC-Vzy0Oq",
        "outputId": "3dbb1f34-0a35-4031-fb70-93010e0f776e"
      },
      "source": [
        "vectorizer = CountVectorizer()\n",
        "X = vectorizer.fit_transform(df['lower'])\n",
        "X_dense = X.todense()\n",
        "X_dense.shape"
      ],
      "execution_count": 13,
      "outputs": [
        {
          "output_type": "execute_result",
          "data": {
            "text/plain": [
              "(3884, 14307)"
            ]
          },
          "metadata": {
            "tags": []
          },
          "execution_count": 13
        }
      ]
    },
    {
      "cell_type": "code",
      "metadata": {
        "id": "buNzIy49Tn0u"
      },
      "source": [
        "df_resp = df[['revenue_cat']]\n",
        "df_pred = pd.DataFrame(X_dense)\n",
        "df_resp.reset_index(drop=True, inplace = True)\n",
        "df_pred.reset_index(drop=True, inplace = True)"
      ],
      "execution_count": 14,
      "outputs": []
    },
    {
      "cell_type": "code",
      "metadata": {
        "colab": {
          "base_uri": "https://localhost:8080/"
        },
        "id": "GGbxg2ipLsUk",
        "outputId": "e49cb1ad-d54c-47e0-dd87-c245495b8d33"
      },
      "source": [
        "print(df_resp.isnull().sum())"
      ],
      "execution_count": 15,
      "outputs": [
        {
          "output_type": "stream",
          "text": [
            "revenue_cat    45\n",
            "dtype: int64\n"
          ],
          "name": "stdout"
        }
      ]
    },
    {
      "cell_type": "code",
      "metadata": {
        "id": "1_SMn7eXLu8S"
      },
      "source": [
        "rows_with_nan = [index for index, row in df_resp.iterrows() if row.isnull().any()]"
      ],
      "execution_count": 16,
      "outputs": []
    },
    {
      "cell_type": "code",
      "metadata": {
        "id": "3TtfHrhJa2qV"
      },
      "source": [
        "df_pred.drop(df_pred.index[rows_with_nan], inplace = True)\n",
        "df_pred.reset_index(drop=True, inplace = True)"
      ],
      "execution_count": 17,
      "outputs": []
    },
    {
      "cell_type": "code",
      "metadata": {
        "colab": {
          "base_uri": "https://localhost:8080/"
        },
        "id": "6a5xEEM7Oy2X",
        "outputId": "de22f883-267a-4abc-b889-efb876095c34"
      },
      "source": [
        "df_resp.dropna(inplace = True)\n",
        "df_resp.reset_index(drop=True, inplace = True)"
      ],
      "execution_count": 18,
      "outputs": [
        {
          "output_type": "stream",
          "text": [
            "/usr/local/lib/python3.7/dist-packages/ipykernel_launcher.py:1: SettingWithCopyWarning: \n",
            "A value is trying to be set on a copy of a slice from a DataFrame\n",
            "\n",
            "See the caveats in the documentation: https://pandas.pydata.org/pandas-docs/stable/user_guide/indexing.html#returning-a-view-versus-a-copy\n",
            "  \"\"\"Entry point for launching an IPython kernel.\n"
          ],
          "name": "stderr"
        }
      ]
    },
    {
      "cell_type": "code",
      "metadata": {
        "colab": {
          "base_uri": "https://localhost:8080/"
        },
        "id": "7mtMkLjvOMYf",
        "outputId": "a4a3048b-5bce-482b-cb83-a7a3aab2df4a"
      },
      "source": [
        "print(df_resp.shape)\n",
        "print(df_pred.shape)"
      ],
      "execution_count": 19,
      "outputs": [
        {
          "output_type": "stream",
          "text": [
            "(3839, 1)\n",
            "(3839, 14307)\n"
          ],
          "name": "stdout"
        }
      ]
    },
    {
      "cell_type": "code",
      "metadata": {
        "colab": {
          "base_uri": "https://localhost:8080/"
        },
        "id": "Nge6PD1q6fqf",
        "outputId": "5113448a-8748-4eeb-e4e1-3164d64b47a8"
      },
      "source": [
        "df_ys = df_resp.squeeze(axis = 1)\n",
        "df_ys.shape"
      ],
      "execution_count": 20,
      "outputs": [
        {
          "output_type": "execute_result",
          "data": {
            "text/plain": [
              "(3839,)"
            ]
          },
          "metadata": {
            "tags": []
          },
          "execution_count": 20
        }
      ]
    },
    {
      "cell_type": "code",
      "metadata": {
        "id": "_RKD4hFVWHS7"
      },
      "source": [
        "model_1 = RandomForestClassifier(n_jobs = -1, random_state = 42, oob_score = True)\n",
        "kf = KFold(n_splits=5, shuffle = True)\n",
        "preds = []\n",
        "tests = []\n",
        "for train_index, test_index in kf.split(df_pred):\n",
        "  X_train, X_test = df_pred.iloc[train_index,:], df_pred.iloc[test_index,:]\n",
        "  y_train, y_test = df_ys.T[train_index], df_ys.T[test_index]\n",
        "  model_1.fit(X_train, y_train)\n",
        "  pred = model_1.predict(X_test)\n",
        "  preds.append(pred)\n",
        "  tests.append(y_test)"
      ],
      "execution_count": 21,
      "outputs": []
    },
    {
      "cell_type": "code",
      "metadata": {
        "colab": {
          "base_uri": "https://localhost:8080/",
          "height": 321
        },
        "id": "4cXo9rKxFIsE",
        "outputId": "095f5895-4214-4dff-ade8-e2709f06d355"
      },
      "source": [
        "##1\n",
        "print(accuracy_score(tests[0], preds[0]))\n",
        "confusion = confusion_matrix(tests[0], preds[0])\n",
        "confusion_matrix_df = pd.DataFrame(confusion, ('1', '2', '3', '4', '5'), ('1', '2', '3', '4', '5'))\n",
        "heatmap = sns.heatmap(confusion_matrix_df, annot=True, annot_kws={\"size\": 20}, fmt=\"d\", cmap=\"Blues\")\n",
        "bottom, top = heatmap.get_ylim()\n",
        "heatmap.yaxis.set_ticklabels(heatmap.yaxis.get_ticklabels(), rotation=0, ha='right', fontsize = 14)\n",
        "heatmap.xaxis.set_ticklabels(heatmap.xaxis.get_ticklabels(), rotation=0, ha='right', fontsize = 14)\n",
        "plt.ylabel('Actual', fontsize = 14)\n",
        "plt.xlabel('Predicted', fontsize = 14)"
      ],
      "execution_count": 22,
      "outputs": [
        {
          "output_type": "stream",
          "text": [
            "0.6888020833333334\n"
          ],
          "name": "stdout"
        },
        {
          "output_type": "execute_result",
          "data": {
            "text/plain": [
              "Text(0.5, 15.0, 'Predicted')"
            ]
          },
          "metadata": {
            "tags": []
          },
          "execution_count": 22
        },
        {
          "output_type": "display_data",
          "data": {
            "image/png": "[encoded data removed]",
            "text/plain": [
              "<Figure size 432x288 with 2 Axes>"
            ]
          },
          "metadata": {
            "tags": [],
            "needs_background": "light"
          }
        }
      ]
    },
    {
      "cell_type": "code",
      "metadata": {
        "colab": {
          "base_uri": "https://localhost:8080/",
          "height": 321
        },
        "id": "WoKyPRkJqt3M",
        "outputId": "413e327c-a371-43af-d592-d59ae49282da"
      },
      "source": [
        "##2\n",
        "print(accuracy_score(tests[1], preds[1]))\n",
        "confusion = confusion_matrix(tests[1], preds[1])\n",
        "confusion_matrix_df = pd.DataFrame(confusion, ('1', '2', '3', '4', '5'), ('1', '2', '3', '4', '5'))\n",
        "heatmap = sns.heatmap(confusion_matrix_df, annot=True, annot_kws={\"size\": 20}, fmt=\"d\", cmap=\"Blues\")\n",
        "bottom, top = heatmap.get_ylim()\n",
        "heatmap.yaxis.set_ticklabels(heatmap.yaxis.get_ticklabels(), rotation=0, ha='right', fontsize = 14)\n",
        "heatmap.xaxis.set_ticklabels(heatmap.xaxis.get_ticklabels(), rotation=0, ha='right', fontsize = 14)\n",
        "plt.ylabel('Actual', fontsize = 14)\n",
        "plt.xlabel('Predicted', fontsize = 14)"
      ],
      "execution_count": 23,
      "outputs": [
        {
          "output_type": "stream",
          "text": [
            "0.6953125\n"
          ],
          "name": "stdout"
        },
        {
          "output_type": "execute_result",
          "data": {
            "text/plain": [
              "Text(0.5, 15.0, 'Predicted')"
            ]
          },
          "metadata": {
            "tags": []
          },
          "execution_count": 23
        },
        {
          "output_type": "display_data",
          "data": {
            "image/png": "[encoded data removed]",
            "text/plain": [
              "<Figure size 432x288 with 2 Axes>"
            ]
          },
          "metadata": {
            "tags": [],
            "needs_background": "light"
          }
        }
      ]
    },
    {
      "cell_type": "code",
      "metadata": {
        "colab": {
          "base_uri": "https://localhost:8080/",
          "height": 321
        },
        "id": "4zOteM1dquic",
        "outputId": "5efd348c-b46a-4dc6-98a3-f1d440ce3c83"
      },
      "source": [
        "##3\n",
        "print(accuracy_score(tests[2], preds[2]))\n",
        "confusion = confusion_matrix(tests[2], preds[2])\n",
        "confusion_matrix_df = pd.DataFrame(confusion, ('1', '2', '3', '4', '5'), ('1', '2', '3', '4', '5'))\n",
        "heatmap = sns.heatmap(confusion_matrix_df, annot=True, annot_kws={\"size\": 20}, fmt=\"d\", cmap=\"Blues\")\n",
        "bottom, top = heatmap.get_ylim()\n",
        "heatmap.yaxis.set_ticklabels(heatmap.yaxis.get_ticklabels(), rotation=0, ha='right', fontsize = 14)\n",
        "heatmap.xaxis.set_ticklabels(heatmap.xaxis.get_ticklabels(), rotation=0, ha='right', fontsize = 14)\n",
        "plt.ylabel('Actual', fontsize = 14)\n",
        "plt.xlabel('Predicted', fontsize = 14)"
      ],
      "execution_count": 24,
      "outputs": [
        {
          "output_type": "stream",
          "text": [
            "0.6705729166666666\n"
          ],
          "name": "stdout"
        },
        {
          "output_type": "execute_result",
          "data": {
            "text/plain": [
              "Text(0.5, 15.0, 'Predicted')"
            ]
          },
          "metadata": {
            "tags": []
          },
          "execution_count": 24
        },
        {
          "output_type": "display_data",
          "data": {
            "image/png": "[encoded data removed]",
            "text/plain": [
              "<Figure size 432x288 with 2 Axes>"
            ]
          },
          "metadata": {
            "tags": [],
            "needs_background": "light"
          }
        }
      ]
    },
    {
      "cell_type": "code",
      "metadata": {
        "colab": {
          "base_uri": "https://localhost:8080/",
          "height": 321
        },
        "id": "ccP5Q4ABqu56",
        "outputId": "13e90e65-3d59-43b7-dad5-61b32c4fe47d"
      },
      "source": [
        "##4\n",
        "print(accuracy_score(tests[3], preds[3]))\n",
        "confusion = confusion_matrix(tests[3], preds[3])\n",
        "confusion_matrix_df = pd.DataFrame(confusion, ('1', '2', '3', '4', '5'), ('1', '2', '3', '4', '5'))\n",
        "heatmap = sns.heatmap(confusion_matrix_df, annot=True, annot_kws={\"size\": 20}, fmt=\"d\", cmap=\"Blues\")\n",
        "bottom, top = heatmap.get_ylim()\n",
        "heatmap.yaxis.set_ticklabels(heatmap.yaxis.get_ticklabels(), rotation=0, ha='right', fontsize = 14)\n",
        "heatmap.xaxis.set_ticklabels(heatmap.xaxis.get_ticklabels(), rotation=0, ha='right', fontsize = 14)\n",
        "plt.ylabel('Actual', fontsize = 14)\n",
        "plt.xlabel('Predicted', fontsize = 14)"
      ],
      "execution_count": 25,
      "outputs": [
        {
          "output_type": "stream",
          "text": [
            "0.6796875\n"
          ],
          "name": "stdout"
        },
        {
          "output_type": "execute_result",
          "data": {
            "text/plain": [
              "Text(0.5, 15.0, 'Predicted')"
            ]
          },
          "metadata": {
            "tags": []
          },
          "execution_count": 25
        },
        {
          "output_type": "display_data",
          "data": {
            "image/png": "[encoded data removed]",
            "text/plain": [
              "<Figure size 432x288 with 2 Axes>"
            ]
          },
          "metadata": {
            "tags": [],
            "needs_background": "light"
          }
        }
      ]
    },
    {
      "cell_type": "code",
      "metadata": {
        "colab": {
          "base_uri": "https://localhost:8080/",
          "height": 321
        },
        "id": "Ko5soI0VqvPZ",
        "outputId": "3e78e88a-1cf0-4dd0-8a64-5d06101945e5"
      },
      "source": [
        "##5\n",
        "print(accuracy_score(tests[4], preds[4]))\n",
        "confusion = confusion_matrix(tests[4], preds[4])\n",
        "confusion_matrix_df = pd.DataFrame(confusion, ('1', '2', '3', '4', '5'), ('1', '2', '3', '4', '5'))\n",
        "heatmap = sns.heatmap(confusion_matrix_df, annot=True, annot_kws={\"size\": 20}, fmt=\"d\", cmap=\"Blues\")\n",
        "bottom, top = heatmap.get_ylim()\n",
        "heatmap.yaxis.set_ticklabels(heatmap.yaxis.get_ticklabels(), rotation=0, ha='right', fontsize = 14)\n",
        "heatmap.xaxis.set_ticklabels(heatmap.xaxis.get_ticklabels(), rotation=0, ha='right', fontsize = 14)\n",
        "plt.ylabel('Actual', fontsize = 14)\n",
        "plt.xlabel('Predicted', fontsize = 14)"
      ],
      "execution_count": 26,
      "outputs": [
        {
          "output_type": "stream",
          "text": [
            "0.6727509778357236\n"
          ],
          "name": "stdout"
        },
        {
          "output_type": "execute_result",
          "data": {
            "text/plain": [
              "Text(0.5, 15.0, 'Predicted')"
            ]
          },
          "metadata": {
            "tags": []
          },
          "execution_count": 26
        },
        {
          "output_type": "display_data",
          "data": {
            "image/png": "[encoded data removed]",
            "text/plain": [
              "<Figure size 432x288 with 2 Axes>"
            ]
          },
          "metadata": {
            "tags": [],
            "needs_background": "light"
          }
        }
      ]
    },
    {
      "cell_type": "code",
      "metadata": {
        "id": "pVb47UHt6bRC"
      },
      "source": [
        "df2 = df.copy()"
      ],
      "execution_count": 27,
      "outputs": []
    },
    {
      "cell_type": "code",
      "metadata": {
        "colab": {
          "base_uri": "https://localhost:8080/",
          "height": 357
        },
        "id": "sC9aDHxKoomj",
        "outputId": "31921bc2-8544-40ed-8f66-628e4d7c0eeb"
      },
      "source": [
        "nltk.download('stopwords')\n",
        "stop = stopwords.words('english')\n",
        "df2['text_wo_stop'] = df2['overview'].apply(lambda x: ' '.join([word for word in x.split() if word not in (stop)]))\n",
        "df2['text_wo_stop_punc'] = df2['text_wo_stop'].apply(lambda x:''.join([i for i in x if i not in string.punctuation]))\n",
        "df2.head()"
      ],
      "execution_count": 28,
      "outputs": [
        {
          "output_type": "stream",
          "text": [
            "[nltk_data] Downloading package stopwords to /root/nltk_data...\n",
            "[nltk_data]   Package stopwords is already up-to-date!\n"
          ],
          "name": "stdout"
        },
        {
          "output_type": "execute_result",
          "data": {
            "text/html": [
              "<div>\n",
              "<style scoped>\n",
              "    .dataframe tbody tr th:only-of-type {\n",
              "        vertical-align: middle;\n",
              "    }\n",
              "\n",
              "    .dataframe tbody tr th {\n",
              "        vertical-align: top;\n",
              "    }\n",
              "\n",
              "    .dataframe thead th {\n",
              "        text-align: right;\n",
              "    }\n",
              "</style>\n",
              "<table border=\"1\" class=\"dataframe\">\n",
              "  <thead>\n",
              "    <tr style=\"text-align: right;\">\n",
              "      <th></th>\n",
              "      <th>title</th>\n",
              "      <th>vote_average</th>\n",
              "      <th>overview</th>\n",
              "      <th>revenue</th>\n",
              "      <th>revenue_cat</th>\n",
              "      <th>release_date</th>\n",
              "      <th>lower</th>\n",
              "      <th>text_wo_stop</th>\n",
              "      <th>text_wo_stop_punc</th>\n",
              "    </tr>\n",
              "  </thead>\n",
              "  <tbody>\n",
              "    <tr>\n",
              "      <th>1</th>\n",
              "      <td>Dinosaur</td>\n",
              "      <td>6.5</td>\n",
              "      <td>An orphaned dinosaur raised by lemurs joins an...</td>\n",
              "      <td>354248063</td>\n",
              "      <td>4</td>\n",
              "      <td>2000-05-19</td>\n",
              "      <td>an orphaned dinosaur raised by lemurs joins an...</td>\n",
              "      <td>An orphaned dinosaur raised lemurs joins arduo...</td>\n",
              "      <td>An orphaned dinosaur raised lemurs joins arduo...</td>\n",
              "    </tr>\n",
              "    <tr>\n",
              "      <th>2</th>\n",
              "      <td>Scary Movie</td>\n",
              "      <td>6.3</td>\n",
              "      <td>A familiar-looking group of teenagers find the...</td>\n",
              "      <td>278019771</td>\n",
              "      <td>4</td>\n",
              "      <td>2000-07-07</td>\n",
              "      <td>a familiar-looking group of teenagers find the...</td>\n",
              "      <td>A familiar-looking group teenagers find stalke...</td>\n",
              "      <td>A familiarlooking group teenagers find stalked...</td>\n",
              "    </tr>\n",
              "    <tr>\n",
              "      <th>3</th>\n",
              "      <td>How the Grinch Stole Christmas</td>\n",
              "      <td>6.7</td>\n",
              "      <td>Inside a snowflake exists the magical land of ...</td>\n",
              "      <td>345141403</td>\n",
              "      <td>4</td>\n",
              "      <td>2000-11-17</td>\n",
              "      <td>inside a snowflake exists the magical land of ...</td>\n",
              "      <td>Inside snowflake exists magical land Whoville....</td>\n",
              "      <td>Inside snowflake exists magical land Whoville ...</td>\n",
              "    </tr>\n",
              "    <tr>\n",
              "      <th>4</th>\n",
              "      <td>The Emperor's New Groove</td>\n",
              "      <td>7.5</td>\n",
              "      <td>Kuzco is a self-centered emperor who summons P...</td>\n",
              "      <td>169327687</td>\n",
              "      <td>3</td>\n",
              "      <td>2000-12-15</td>\n",
              "      <td>kuzco is a self-centered emperor who summons p...</td>\n",
              "      <td>Kuzco self-centered emperor summons Pacha vill...</td>\n",
              "      <td>Kuzco selfcentered emperor summons Pacha villa...</td>\n",
              "    </tr>\n",
              "    <tr>\n",
              "      <th>5</th>\n",
              "      <td>The Road to El Dorado</td>\n",
              "      <td>7.2</td>\n",
              "      <td>After a failed swindle, two con-men end up wit...</td>\n",
              "      <td>76432727</td>\n",
              "      <td>3</td>\n",
              "      <td>2000-03-31</td>\n",
              "      <td>after a failed swindle, two con-men end up wit...</td>\n",
              "      <td>After failed swindle, two con-men end map El D...</td>\n",
              "      <td>After failed swindle two conmen end map El Dor...</td>\n",
              "    </tr>\n",
              "  </tbody>\n",
              "</table>\n",
              "</div>"
            ],
            "text/plain": [
              "                            title  ...                                  text_wo_stop_punc\n",
              "1                        Dinosaur  ...  An orphaned dinosaur raised lemurs joins arduo...\n",
              "2                     Scary Movie  ...  A familiarlooking group teenagers find stalked...\n",
              "3  How the Grinch Stole Christmas  ...  Inside snowflake exists magical land Whoville ...\n",
              "4        The Emperor's New Groove  ...  Kuzco selfcentered emperor summons Pacha villa...\n",
              "5           The Road to El Dorado  ...  After failed swindle two conmen end map El Dor...\n",
              "\n",
              "[5 rows x 9 columns]"
            ]
          },
          "metadata": {
            "tags": []
          },
          "execution_count": 28
        }
      ]
    },
    {
      "cell_type": "code",
      "metadata": {
        "colab": {
          "base_uri": "https://localhost:8080/",
          "height": 323
        },
        "id": "3ytPE3Fp7qQ8",
        "outputId": "da5f9056-f97c-471b-c671-a01315a00c84"
      },
      "source": [
        "df2['lower'] = [word.lower() for word in df2['text_wo_stop_punc']]\n",
        "df2.head()"
      ],
      "execution_count": 29,
      "outputs": [
        {
          "output_type": "execute_result",
          "data": {
            "text/html": [
              "<div>\n",
              "<style scoped>\n",
              "    .dataframe tbody tr th:only-of-type {\n",
              "        vertical-align: middle;\n",
              "    }\n",
              "\n",
              "    .dataframe tbody tr th {\n",
              "        vertical-align: top;\n",
              "    }\n",
              "\n",
              "    .dataframe thead th {\n",
              "        text-align: right;\n",
              "    }\n",
              "</style>\n",
              "<table border=\"1\" class=\"dataframe\">\n",
              "  <thead>\n",
              "    <tr style=\"text-align: right;\">\n",
              "      <th></th>\n",
              "      <th>title</th>\n",
              "      <th>vote_average</th>\n",
              "      <th>overview</th>\n",
              "      <th>revenue</th>\n",
              "      <th>revenue_cat</th>\n",
              "      <th>release_date</th>\n",
              "      <th>lower</th>\n",
              "      <th>text_wo_stop</th>\n",
              "      <th>text_wo_stop_punc</th>\n",
              "    </tr>\n",
              "  </thead>\n",
              "  <tbody>\n",
              "    <tr>\n",
              "      <th>1</th>\n",
              "      <td>Dinosaur</td>\n",
              "      <td>6.5</td>\n",
              "      <td>An orphaned dinosaur raised by lemurs joins an...</td>\n",
              "      <td>354248063</td>\n",
              "      <td>4</td>\n",
              "      <td>2000-05-19</td>\n",
              "      <td>an orphaned dinosaur raised lemurs joins arduo...</td>\n",
              "      <td>An orphaned dinosaur raised lemurs joins arduo...</td>\n",
              "      <td>An orphaned dinosaur raised lemurs joins arduo...</td>\n",
              "    </tr>\n",
              "    <tr>\n",
              "      <th>2</th>\n",
              "      <td>Scary Movie</td>\n",
              "      <td>6.3</td>\n",
              "      <td>A familiar-looking group of teenagers find the...</td>\n",
              "      <td>278019771</td>\n",
              "      <td>4</td>\n",
              "      <td>2000-07-07</td>\n",
              "      <td>a familiarlooking group teenagers find stalked...</td>\n",
              "      <td>A familiar-looking group teenagers find stalke...</td>\n",
              "      <td>A familiarlooking group teenagers find stalked...</td>\n",
              "    </tr>\n",
              "    <tr>\n",
              "      <th>3</th>\n",
              "      <td>How the Grinch Stole Christmas</td>\n",
              "      <td>6.7</td>\n",
              "      <td>Inside a snowflake exists the magical land of ...</td>\n",
              "      <td>345141403</td>\n",
              "      <td>4</td>\n",
              "      <td>2000-11-17</td>\n",
              "      <td>inside snowflake exists magical land whoville ...</td>\n",
              "      <td>Inside snowflake exists magical land Whoville....</td>\n",
              "      <td>Inside snowflake exists magical land Whoville ...</td>\n",
              "    </tr>\n",
              "    <tr>\n",
              "      <th>4</th>\n",
              "      <td>The Emperor's New Groove</td>\n",
              "      <td>7.5</td>\n",
              "      <td>Kuzco is a self-centered emperor who summons P...</td>\n",
              "      <td>169327687</td>\n",
              "      <td>3</td>\n",
              "      <td>2000-12-15</td>\n",
              "      <td>kuzco selfcentered emperor summons pacha villa...</td>\n",
              "      <td>Kuzco self-centered emperor summons Pacha vill...</td>\n",
              "      <td>Kuzco selfcentered emperor summons Pacha villa...</td>\n",
              "    </tr>\n",
              "    <tr>\n",
              "      <th>5</th>\n",
              "      <td>The Road to El Dorado</td>\n",
              "      <td>7.2</td>\n",
              "      <td>After a failed swindle, two con-men end up wit...</td>\n",
              "      <td>76432727</td>\n",
              "      <td>3</td>\n",
              "      <td>2000-03-31</td>\n",
              "      <td>after failed swindle two conmen end map el dor...</td>\n",
              "      <td>After failed swindle, two con-men end map El D...</td>\n",
              "      <td>After failed swindle two conmen end map El Dor...</td>\n",
              "    </tr>\n",
              "  </tbody>\n",
              "</table>\n",
              "</div>"
            ],
            "text/plain": [
              "                            title  ...                                  text_wo_stop_punc\n",
              "1                        Dinosaur  ...  An orphaned dinosaur raised lemurs joins arduo...\n",
              "2                     Scary Movie  ...  A familiarlooking group teenagers find stalked...\n",
              "3  How the Grinch Stole Christmas  ...  Inside snowflake exists magical land Whoville ...\n",
              "4        The Emperor's New Groove  ...  Kuzco selfcentered emperor summons Pacha villa...\n",
              "5           The Road to El Dorado  ...  After failed swindle two conmen end map El Dor...\n",
              "\n",
              "[5 rows x 9 columns]"
            ]
          },
          "metadata": {
            "tags": []
          },
          "execution_count": 29
        }
      ]
    },
    {
      "cell_type": "code",
      "metadata": {
        "colab": {
          "base_uri": "https://localhost:8080/"
        },
        "id": "g3P62UZf9UoB",
        "outputId": "27bf4d7e-3f51-436b-bf2f-6889266da726"
      },
      "source": [
        "vectorizer = TfidfVectorizer()\n",
        "X2 = vectorizer.fit_transform(df2['lower'])\n",
        "X2_dense = X2.todense()\n",
        "X2_dense.shape"
      ],
      "execution_count": 30,
      "outputs": [
        {
          "output_type": "execute_result",
          "data": {
            "text/plain": [
              "(3884, 15454)"
            ]
          },
          "metadata": {
            "tags": []
          },
          "execution_count": 30
        }
      ]
    },
    {
      "cell_type": "code",
      "metadata": {
        "id": "mLSSRwM59ujb"
      },
      "source": [
        "df2_resp = df2[['revenue_cat']]\n",
        "df2_pred = pd.DataFrame(X2_dense)\n",
        "df2_resp.reset_index(drop=True, inplace = True)\n",
        "df2_pred.reset_index(drop=True, inplace = True)"
      ],
      "execution_count": 31,
      "outputs": []
    },
    {
      "cell_type": "code",
      "metadata": {
        "colab": {
          "base_uri": "https://localhost:8080/"
        },
        "id": "Vy33SVUu93ND",
        "outputId": "3b833e2d-505c-461a-978c-0a54570ea7db"
      },
      "source": [
        "print(df2_resp.isnull().sum())"
      ],
      "execution_count": 32,
      "outputs": [
        {
          "output_type": "stream",
          "text": [
            "revenue_cat    45\n",
            "dtype: int64\n"
          ],
          "name": "stdout"
        }
      ]
    },
    {
      "cell_type": "code",
      "metadata": {
        "id": "n5J7rpme96IA"
      },
      "source": [
        "rows_with_nan = [index for index, row in df2_resp.iterrows() if row.isnull().any()]"
      ],
      "execution_count": 33,
      "outputs": []
    },
    {
      "cell_type": "code",
      "metadata": {
        "id": "0KC-fn8c9-e5"
      },
      "source": [
        "df2_pred.drop(df2_pred.index[rows_with_nan], inplace = True)\n",
        "df2_pred.reset_index(drop=True, inplace = True)"
      ],
      "execution_count": 34,
      "outputs": []
    },
    {
      "cell_type": "code",
      "metadata": {
        "colab": {
          "base_uri": "https://localhost:8080/"
        },
        "id": "zGwGKny7-COQ",
        "outputId": "8b739762-af79-4b7e-81e5-5eef5a35b71b"
      },
      "source": [
        "df2_resp.dropna(inplace = True)\n",
        "df2_resp.reset_index(drop=True, inplace = True)"
      ],
      "execution_count": 35,
      "outputs": [
        {
          "output_type": "stream",
          "text": [
            "/usr/local/lib/python3.7/dist-packages/ipykernel_launcher.py:1: SettingWithCopyWarning: \n",
            "A value is trying to be set on a copy of a slice from a DataFrame\n",
            "\n",
            "See the caveats in the documentation: https://pandas.pydata.org/pandas-docs/stable/user_guide/indexing.html#returning-a-view-versus-a-copy\n",
            "  \"\"\"Entry point for launching an IPython kernel.\n"
          ],
          "name": "stderr"
        }
      ]
    },
    {
      "cell_type": "code",
      "metadata": {
        "colab": {
          "base_uri": "https://localhost:8080/"
        },
        "id": "i4nb8aqX-FY0",
        "outputId": "abffd229-dc14-42d7-cf88-7f6b639c871c"
      },
      "source": [
        "print(df2_resp.shape)\n",
        "print(df2_pred.shape)"
      ],
      "execution_count": 36,
      "outputs": [
        {
          "output_type": "stream",
          "text": [
            "(3839, 1)\n",
            "(3839, 15454)\n"
          ],
          "name": "stdout"
        }
      ]
    },
    {
      "cell_type": "code",
      "metadata": {
        "colab": {
          "base_uri": "https://localhost:8080/"
        },
        "id": "2Oux8cV0-MNA",
        "outputId": "10b061f8-ce82-43c8-bb60-f31a6337e3b0"
      },
      "source": [
        "df2_ys = df2_resp.squeeze(axis = 1)\n",
        "df2_ys.shape"
      ],
      "execution_count": 37,
      "outputs": [
        {
          "output_type": "execute_result",
          "data": {
            "text/plain": [
              "(3839,)"
            ]
          },
          "metadata": {
            "tags": []
          },
          "execution_count": 37
        }
      ]
    },
    {
      "cell_type": "code",
      "metadata": {
        "id": "Qf9hjVsJ-NA1"
      },
      "source": [
        "model_2 = RandomForestClassifier(n_jobs = -1, random_state = 42, oob_score = True, class_weight = 'balanced')\n",
        "kf2 = KFold(n_splits=5, shuffle = True)\n",
        "preds2 = []\n",
        "tests2 = []\n",
        "for train_index, test_index in kf2.split(df2_pred):\n",
        "  X_train, X_test = df2_pred.iloc[train_index,:], df2_pred.iloc[test_index,:]\n",
        "  y_train, y_test = df2_ys.T[train_index], df2_ys.T[test_index]\n",
        "  model_2.fit(X_train, y_train)\n",
        "  pred = model_2.predict(X_test)\n",
        "  preds2.append(pred)\n",
        "  tests2.append(y_test)"
      ],
      "execution_count": 38,
      "outputs": []
    },
    {
      "cell_type": "code",
      "metadata": {
        "colab": {
          "base_uri": "https://localhost:8080/",
          "height": 321
        },
        "id": "ttWVXg1yAmG8",
        "outputId": "bc80f20a-2c34-48c9-c4cc-02f62c95fd1c"
      },
      "source": [
        "##1\n",
        "print(accuracy_score(tests2[0], preds2[0]))\n",
        "confusion = confusion_matrix(tests2[0], preds2[0])\n",
        "confusion_matrix_df = pd.DataFrame(confusion, ('1', '2', '3', '4', '5'), ('1', '2', '3', '4', '5'))\n",
        "heatmap = sns.heatmap(confusion_matrix_df, annot=True, annot_kws={\"size\": 20}, fmt=\"d\", cmap=\"Blues\")\n",
        "bottom, top = heatmap.get_ylim()\n",
        "heatmap.yaxis.set_ticklabels(heatmap.yaxis.get_ticklabels(), rotation=0, ha='right', fontsize = 14)\n",
        "heatmap.xaxis.set_ticklabels(heatmap.xaxis.get_ticklabels(), rotation=0, ha='right', fontsize = 14)\n",
        "plt.ylabel('Actual', fontsize = 14)\n",
        "plt.xlabel('Predicted', fontsize = 14)"
      ],
      "execution_count": 39,
      "outputs": [
        {
          "output_type": "stream",
          "text": [
            "0.6901041666666666\n"
          ],
          "name": "stdout"
        },
        {
          "output_type": "execute_result",
          "data": {
            "text/plain": [
              "Text(0.5, 15.0, 'Predicted')"
            ]
          },
          "metadata": {
            "tags": []
          },
          "execution_count": 39
        },
        {
          "output_type": "display_data",
          "data": {
            "image/png": "[encoded data removed]",
            "text/plain": [
              "<Figure size 432x288 with 2 Axes>"
            ]
          },
          "metadata": {
            "tags": [],
            "needs_background": "light"
          }
        }
      ]
    },
    {
      "cell_type": "code",
      "metadata": {
        "colab": {
          "base_uri": "https://localhost:8080/",
          "height": 321
        },
        "id": "GK1loORkAq_c",
        "outputId": "396ab880-3194-4b64-d141-0cc35025d759"
      },
      "source": [
        "##2\n",
        "print(accuracy_score(tests2[1], preds2[1]))\n",
        "confusion = confusion_matrix(tests2[1], preds2[1])\n",
        "confusion_matrix_df = pd.DataFrame(confusion, ('1', '2', '3', '4', '5'), ('1', '2', '3', '4', '5'))\n",
        "heatmap = sns.heatmap(confusion_matrix_df, annot=True, annot_kws={\"size\": 20}, fmt=\"d\", cmap=\"Blues\")\n",
        "bottom, top = heatmap.get_ylim()\n",
        "heatmap.yaxis.set_ticklabels(heatmap.yaxis.get_ticklabels(), rotation=0, ha='right', fontsize = 14)\n",
        "heatmap.xaxis.set_ticklabels(heatmap.xaxis.get_ticklabels(), rotation=0, ha='right', fontsize = 14)\n",
        "plt.ylabel('Actual', fontsize = 14)\n",
        "plt.xlabel('Predicted', fontsize = 14)"
      ],
      "execution_count": 40,
      "outputs": [
        {
          "output_type": "stream",
          "text": [
            "0.6979166666666666\n"
          ],
          "name": "stdout"
        },
        {
          "output_type": "execute_result",
          "data": {
            "text/plain": [
              "Text(0.5, 15.0, 'Predicted')"
            ]
          },
          "metadata": {
            "tags": []
          },
          "execution_count": 40
        },
        {
          "output_type": "display_data",
          "data": {
            "image/png": "[encoded data removed]",
            "text/plain": [
              "<Figure size 432x288 with 2 Axes>"
            ]
          },
          "metadata": {
            "tags": [],
            "needs_background": "light"
          }
        }
      ]
    },
    {
      "cell_type": "code",
      "metadata": {
        "colab": {
          "base_uri": "https://localhost:8080/",
          "height": 321
        },
        "id": "SXfOrv9CAr5Q",
        "outputId": "5c6959df-d882-4743-83d0-aafc73493bf4"
      },
      "source": [
        "##3\n",
        "print(accuracy_score(tests2[2], preds2[2]))\n",
        "confusion = confusion_matrix(tests2[2], preds2[2])\n",
        "confusion_matrix_df = pd.DataFrame(confusion, ('1', '2', '3', '4', '5'), ('1', '2', '3', '4', '5'))\n",
        "heatmap = sns.heatmap(confusion_matrix_df, annot=True, annot_kws={\"size\": 20}, fmt=\"d\", cmap=\"Blues\")\n",
        "bottom, top = heatmap.get_ylim()\n",
        "heatmap.yaxis.set_ticklabels(heatmap.yaxis.get_ticklabels(), rotation=0, ha='right', fontsize = 14)\n",
        "heatmap.xaxis.set_ticklabels(heatmap.xaxis.get_ticklabels(), rotation=0, ha='right', fontsize = 14)\n",
        "plt.ylabel('Actual', fontsize = 14)\n",
        "plt.xlabel('Predicted', fontsize = 14)"
      ],
      "execution_count": 41,
      "outputs": [
        {
          "output_type": "stream",
          "text": [
            "0.6614583333333334\n"
          ],
          "name": "stdout"
        },
        {
          "output_type": "execute_result",
          "data": {
            "text/plain": [
              "Text(0.5, 15.0, 'Predicted')"
            ]
          },
          "metadata": {
            "tags": []
          },
          "execution_count": 41
        },
        {
          "output_type": "display_data",
          "data": {
            "image/png": "[encoded data removed]",
            "text/plain": [
              "<Figure size 432x288 with 2 Axes>"
            ]
          },
          "metadata": {
            "tags": [],
            "needs_background": "light"
          }
        }
      ]
    },
    {
      "cell_type": "code",
      "metadata": {
        "colab": {
          "base_uri": "https://localhost:8080/",
          "height": 321
        },
        "id": "6HduY3GsAsKt",
        "outputId": "745269ff-0d28-4237-a3cf-adf1ec147528"
      },
      "source": [
        "##4\n",
        "print(accuracy_score(tests2[3], preds2[3]))\n",
        "confusion = confusion_matrix(tests2[3], preds2[3])\n",
        "confusion_matrix_df = pd.DataFrame(confusion, ('1', '2', '3', '4', '5'), ('1', '2', '3', '4', '5'))\n",
        "heatmap = sns.heatmap(confusion_matrix_df, annot=True, annot_kws={\"size\": 20}, fmt=\"d\", cmap=\"Blues\")\n",
        "bottom, top = heatmap.get_ylim()\n",
        "heatmap.yaxis.set_ticklabels(heatmap.yaxis.get_ticklabels(), rotation=0, ha='right', fontsize = 14)\n",
        "heatmap.xaxis.set_ticklabels(heatmap.xaxis.get_ticklabels(), rotation=0, ha='right', fontsize = 14)\n",
        "plt.ylabel('Actual', fontsize = 14)\n",
        "plt.xlabel('Predicted', fontsize = 14)"
      ],
      "execution_count": 42,
      "outputs": [
        {
          "output_type": "stream",
          "text": [
            "0.6966145833333334\n"
          ],
          "name": "stdout"
        },
        {
          "output_type": "execute_result",
          "data": {
            "text/plain": [
              "Text(0.5, 15.0, 'Predicted')"
            ]
          },
          "metadata": {
            "tags": []
          },
          "execution_count": 42
        },
        {
          "output_type": "display_data",
          "data": {
            "image/png": "[encoded data removed]",
            "text/plain": [
              "<Figure size 432x288 with 2 Axes>"
            ]
          },
          "metadata": {
            "tags": [],
            "needs_background": "light"
          }
        }
      ]
    },
    {
      "cell_type": "code",
      "metadata": {
        "colab": {
          "base_uri": "https://localhost:8080/",
          "height": 321
        },
        "id": "W_ComVmQAsS9",
        "outputId": "1079bd16-46b3-42a4-aebf-41dcad49a4e4"
      },
      "source": [
        "##5\n",
        "print(accuracy_score(tests2[4], preds2[4]))\n",
        "confusion = confusion_matrix(tests2[4], preds2[4])\n",
        "confusion_matrix_df = pd.DataFrame(confusion, ('1', '2', '3', '4', '5'), ('1', '2', '3', '4', '5'))\n",
        "heatmap = sns.heatmap(confusion_matrix_df, annot=True, annot_kws={\"size\": 20}, fmt=\"d\", cmap=\"Blues\")\n",
        "bottom, top = heatmap.get_ylim()\n",
        "heatmap.yaxis.set_ticklabels(heatmap.yaxis.get_ticklabels(), rotation=0, ha='right', fontsize = 14)\n",
        "heatmap.xaxis.set_ticklabels(heatmap.xaxis.get_ticklabels(), rotation=0, ha='right', fontsize = 14)\n",
        "plt.ylabel('Actual', fontsize = 14)\n",
        "plt.xlabel('Predicted', fontsize = 14)"
      ],
      "execution_count": 43,
      "outputs": [
        {
          "output_type": "stream",
          "text": [
            "0.681877444589309\n"
          ],
          "name": "stdout"
        },
        {
          "output_type": "execute_result",
          "data": {
            "text/plain": [
              "Text(0.5, 15.0, 'Predicted')"
            ]
          },
          "metadata": {
            "tags": []
          },
          "execution_count": 43
        },
        {
          "output_type": "display_data",
          "data": {
            "image/png": "[encoded data removed]",
            "text/plain": [
              "<Figure size 432x288 with 2 Axes>"
            ]
          },
          "metadata": {
            "tags": [],
            "needs_background": "light"
          }
        }
      ]
    }
  ]
}